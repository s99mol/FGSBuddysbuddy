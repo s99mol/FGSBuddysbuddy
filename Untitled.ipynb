{
 "cells": [
  {
   "cell_type": "code",
   "execution_count": 6,
   "id": "056141f3-9ac9-47eb-9e2b-44fcbeb4f8c5",
   "metadata": {},
   "outputs": [],
   "source": [
    "import pandas as pd"
   ]
  },
  {
   "cell_type": "code",
   "execution_count": 11,
   "id": "b27c3eb4-c528-4312-ad42-371ca1ec4481",
   "metadata": {},
   "outputs": [
    {
     "name": "stdout",
     "output_type": "stream",
     "text": [
      "/Users/martinolsson/Documents/GitHub/FGSBuddysbuddy/Testdata\n"
     ]
    }
   ],
   "source": [
    "cd Testdata"
   ]
  },
  {
   "cell_type": "code",
   "execution_count": 16,
   "id": "a793e455-2acd-456c-8dd8-16a0b2b9df99",
   "metadata": {},
   "outputs": [],
   "source": [
    "df.to_xml(inputfile, row_name='country', pretty_print=True)"
   ]
  },
  {
   "cell_type": "code",
   "execution_count": 17,
   "id": "aed8961e-de75-473a-929c-5392fdee35c3",
   "metadata": {},
   "outputs": [
    {
     "name": "stdout",
     "output_type": "stream",
     "text": [
      "testdatainput.csv\n"
     ]
    }
   ],
   "source": [
    "print(inputfile)"
   ]
  },
  {
   "cell_type": "code",
   "execution_count": 20,
   "id": "12dfe267-6752-493d-8d99-6e2631c5c9f8",
   "metadata": {},
   "outputs": [
    {
     "name": "stdout",
     "output_type": "stream",
     "text": [
      "/Users/martinolsson/Documents/GitHub/FGSBuddysbuddy\n"
     ]
    }
   ],
   "source": [
    "cd ../"
   ]
  },
  {
   "cell_type": "code",
   "execution_count": 21,
   "id": "df26a52f-8389-49da-a1af-28debffae702",
   "metadata": {},
   "outputs": [
    {
     "name": "stdout",
     "output_type": "stream",
     "text": [
      "/Users/martinolsson/Documents/GitHub\n"
     ]
    }
   ],
   "source": [
    "cd ../"
   ]
  },
  {
   "cell_type": "code",
   "execution_count": 22,
   "id": "e5cda336-a9bc-45ff-a64f-aa3b1cdd4fee",
   "metadata": {},
   "outputs": [
    {
     "name": "stdout",
     "output_type": "stream",
     "text": [
      "/Users/martinolsson/Documents\n"
     ]
    }
   ],
   "source": [
    "cd ../"
   ]
  },
  {
   "cell_type": "code",
   "execution_count": 23,
   "id": "118b282f-1ce5-421b-8e9f-2f7c3f5e1692",
   "metadata": {},
   "outputs": [
    {
     "name": "stdout",
     "output_type": "stream",
     "text": [
      "/Users/martinolsson/Documents/Kod\n"
     ]
    }
   ],
   "source": [
    "cd kod"
   ]
  },
  {
   "cell_type": "code",
   "execution_count": 124,
   "id": "9fdaa730-30a7-487e-9af8-0b229f0cc486",
   "metadata": {},
   "outputs": [],
   "source": [
    "from lxml import etree"
   ]
  },
  {
   "cell_type": "code",
   "execution_count": null,
   "id": "6050180c-d39c-4851-a62b-8ed12495ac56",
   "metadata": {},
   "outputs": [],
   "source": [
    "import uuid"
   ]
  },
  {
   "cell_type": "code",
   "execution_count": 153,
   "id": "39e70e94-aeea-47bc-b006-1dffe2039994",
   "metadata": {},
   "outputs": [],
   "source": [
    "inputfile = 'testdatainput.xml'"
   ]
  },
  {
   "cell_type": "code",
   "execution_count": 154,
   "id": "1730a2b9-d9e5-451d-aaab-bbe2edb22f14",
   "metadata": {},
   "outputs": [],
   "source": [
    "doc = etree.parse(inputfile)"
   ]
  },
  {
   "cell_type": "code",
   "execution_count": 144,
   "id": "f992091b-8295-43ce-8c63-581ac26e67b2",
   "metadata": {},
   "outputs": [],
   "source": [
    "#tree = etree.parse('testdatainput.xml')"
   ]
  },
  {
   "cell_type": "code",
   "execution_count": 155,
   "id": "c1e819e8-fc52-4fbf-a19e-082b8964efab",
   "metadata": {},
   "outputs": [],
   "source": [
    "root = doc.getroot()"
   ]
  },
  {
   "cell_type": "code",
   "execution_count": 156,
   "id": "bec6fdd5-4207-44cc-9572-10dc7311a754",
   "metadata": {},
   "outputs": [],
   "source": [
    "for ArkivobjektID_Arenden in root.iter('ArkivobjektID_Arende'):\n",
    "    ArkivobjektID_Arenden.set('Systemidentifierare', uuid.uuid4().hex)"
   ]
  },
  {
   "cell_type": "code",
   "execution_count": 157,
   "id": "4b9d78f0-a8e4-492a-8315-264ad6d43d24",
   "metadata": {},
   "outputs": [],
   "source": [
    "for ArkivobjektID_Handlingar in root.iter('ArkivobjektID_Handling'):\n",
    "    ArkivobjektID_Handlingar.set('Systemidentifierare', uuid.uuid4().hex)"
   ]
  },
  {
   "cell_type": "code",
   "execution_count": 158,
   "id": "d05366af-44cb-45d6-bd08-361e211a8a39",
   "metadata": {},
   "outputs": [],
   "source": [
    "tree.write('outputss.xml')"
   ]
  },
  {
   "cell_type": "code",
   "execution_count": null,
   "id": "23d016fa-7090-482c-bde1-13bd8126e420",
   "metadata": {},
   "outputs": [],
   "source": []
  }
 ],
 "metadata": {
  "kernelspec": {
   "display_name": "Python 3 (ipykernel)",
   "language": "python",
   "name": "python3"
  },
  "language_info": {
   "codemirror_mode": {
    "name": "ipython",
    "version": 3
   },
   "file_extension": ".py",
   "mimetype": "text/x-python",
   "name": "python",
   "nbconvert_exporter": "python",
   "pygments_lexer": "ipython3",
   "version": "3.10.0"
  }
 },
 "nbformat": 4,
 "nbformat_minor": 5
}
